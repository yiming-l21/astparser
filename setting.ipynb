{
 "cells": [
  {
   "attachments": {},
   "cell_type": "markdown",
   "metadata": {},
   "source": [
    "## 配置环境，生成.so文件"
   ]
  },
  {
   "cell_type": "code",
   "execution_count": 12,
   "metadata": {},
   "outputs": [
    {
     "data": {
      "text/plain": [
       "False"
      ]
     },
     "execution_count": 12,
     "metadata": {},
     "output_type": "execute_result"
    }
   ],
   "source": [
    "from tree_sitter import Language\n",
    "Language.build_library(\n",
    "  # so文件保存位置\n",
    "  'build/my-languages.so',\n",
    "\n",
    "  # vendor文件下git clone的仓库\n",
    "  [\n",
    "    'vendor/tree-sitter-java',\n",
    "    'vendor/tree-sitter-python',\n",
    "    'vendor/tree-sitter-cpp',\n",
    "    'vendor/tree-sitter-c-sharp',\n",
    "    'vendor/tree-sitter-javascript',\n",
    "    'vendor/tree-sitter-go',\n",
    "    'vendor/tree-sitter-php',\n",
    "    'vendor/tree-sitter-typescript/tsx/',\n",
    "    'vendor/tree-sitter-css',\n",
    "    'vendor/tree-sitter-prolog',\n",
    "    'vendor/tree-sitter-r',\n",
    "    'vendor/tree-sitter-rust',\n",
    "    'vendor/tree-sitter-c',\n",
    "    'vendor/tree-sitter-cuda',\n",
    "    'vendor/tree-sitter-perl',\n",
    "    'vendor/tree-sitter-scala',\n",
    "    'vendor/tree-sitter-matlab',\n",
    "    'vendor/tree-sitter-pascal',\n",
    "    'vendor/tree-sitter-ruby',\n",
    "    'vendor/tree-sitter-lua',\n",
    "    #'vendor/tree-sitter-lean',\n",
    "    'vendor/tree-sitter-dart',\n",
    "    'vendor/tree-sitter-kotlin',\n",
    "    'vendor/tree-sitter-html',\n",
    "    'vendor/tree-sitter-elisp',\n",
    "    'vendor/tree-sitter-latex',\n",
    "    #'vendor/tree-sitter-powershell',\n",
    "    'vendor/tree-sitter-sqlite',\n",
    "    'vendor/tree-sitter-objc',\n",
    "    'vendor/tree-sitter-fortran'\n",
    "\n",
    "  ]\n",
    ")"
   ]
  },
  {
   "attachments": {},
   "cell_type": "markdown",
   "metadata": {},
   "source": [
    "## 导入treesitter库，生成各个语言"
   ]
  },
  {
   "cell_type": "code",
   "execution_count": 13,
   "metadata": {},
   "outputs": [],
   "source": [
    "from tree_sitter import Language, Parser\n",
    "CPP_LANGUAGE = Language('build/my-languages.so', 'cpp')\n",
    "PY_LANGUAGE = Language('build/my-languages.so', 'python')\n",
    "JAVA_LANGUAGE=Language('build/my-languages.so', 'java')\n",
    "JS_LANGUAGE=Language('build/my-languages.so', 'javascript')\n",
    "C_SHARP_LANGUAGE=Language('build/my-languages.so', 'c_sharp')\n",
    "GO_LANGUAGE=Language('build/my-languages.so', 'go')\n",
    "PHP_LANGUAGE=Language('build/my-languages.so', 'php')\n",
    "TYPESCRIPT_LANGUAGE=Language('build/my-languages.so','tsx')\n",
    "C_LANGUAGE=Language('build/my-languages.so','c')\n",
    "CSS_LANGUAGE=Language('build/my-languages.so','css')\n",
    "PROLOG_LANGUAGE=Language('build/my-languages.so','prolog')\n",
    "R_LANGUAGE=Language('build/my-languages.so','r')\n",
    "RUST_LANGUAGE=Language('build/my-languages.so','rust')\n",
    "CUDA_LANGUAGE=Language('build/my-languages.so','cuda')\n",
    "PERL_LANGUAGE=Language('build/my-languages.so','perl')\n",
    "SCALA_LANGUAGE=Language('build/my-languages.so','scala')\n",
    "MATLAB_LANGUAGE=Language('build/my-languages.so','matlab')\n",
    "RUBY_LANGUAGE=Language('build/my-languages.so','ruby')\n",
    "PASCAL_LANGUAGE=Language('build/my-languages.so','pascal')\n",
    "LUA_LANGUAGE=Language('build/my-languages.so','lua')\n",
    "#SWIFT_LANGUAGE=Language('build/my-languages.so','swift')\n",
    "#LEAN_LANGUAGE=Language('build/my-languages.so','lean')\n",
    "DART_LANGUAGE=Language('build/my-languages.so','dart')\n",
    "KOTLIN_LANGUAGE=Language('build/my-languages.so','kotlin')\n",
    "HTML_LANGUAGE=Language('build/my-languages.so','html')\n",
    "LISP_LANGUAGE=Language('build/my-languages.so','elisp')\n",
    "LATEX_LANGUAGE=Language('build/my-languages.so','latex')\n",
    "#SHELL_LANGUAGE=Language('build/my-languages.so','powershell')\n",
    "SQL_LANGUAGE=Language('build/my-languages.so','sqlite')\n",
    "OBJC_LANGUAGE=Language('build/my-languages.so','objc')\n",
    "FORTRAN_LANGUAGE=Language('build/my-languages.so','fortran')"
   ]
  },
  {
   "attachments": {},
   "cell_type": "markdown",
   "metadata": {},
   "source": [
    "## 生成嵌套列表格式的ast\n",
    "函数process_string(text,left='[[]',right='[]]',sep=','),将lisp风格的括号嵌套字符串转化为python列表。\n",
    "exp:(module(indicator))=>['module',['indicator']]\n",
    "函数code2ast(language:string,filepath:string)\n",
    "exp:\n",
    "\"examples/example_python.py\""
   ]
  },
  {
   "cell_type": "code",
   "execution_count": 14,
   "metadata": {},
   "outputs": [],
   "source": [
    "import re\n",
    "def process_string(text,left='[[]',right='[]]',sep=' '):\n",
    "    pat = r'({}|{}|{})'.format(left, right, sep)\n",
    "    tokens = re.split(pat, text)\n",
    "    stack = [[]]\n",
    "    for x in tokens:\n",
    "        if not x or re.match(sep, x): \n",
    "            continue\n",
    "        if re.match(left, x):\n",
    "            stack[-1].append([])\n",
    "            stack.append(stack[-1][-1])\n",
    "        elif re.match(right, x):\n",
    "            stack.pop()\n",
    "            if not stack:\n",
    "                return 'error: opening bracket is missing'\n",
    "                #raise ValueError('error: opening bracket is missing')\n",
    "        else:\n",
    "            stack[-1].append(x)\n",
    "    if len(stack) > 1:\n",
    "        return 'error: closing bracket is missing'\n",
    "        raise ValueError('error: closing bracket is missing')\n",
    "    return stack.pop()"
   ]
  },
  {
   "cell_type": "code",
   "execution_count": 15,
   "metadata": {},
   "outputs": [],
   "source": [
    "\n",
    "def getast_tree(language,text):\n",
    "    LANGUAGE=Language('build/my-languages.so', language)\n",
    "    parser=Parser()\n",
    "    parser.set_language(LANGUAGE)\n",
    "    tree=parser.parse(bytes(text,\"utf8\"))\n",
    "    return tree\n",
    "def getast_list(language:str,text:str):\n",
    "    tree=getast_tree(language,text)\n",
    "    root_node=tree.root_node\n",
    "    string=root_node.sexp()\n",
    "    string=string.replace('(','[')\n",
    "    string=string.replace(')',']')\n",
    "    return process_string(string)\n",
    "def code2ast(language,filepath):\n",
    "    with open(filepath, \"r\") as f:\n",
    "        code = f.read()\n",
    "    return getast_list(language,code)"
   ]
  },
  {
   "attachments": {},
   "cell_type": "markdown",
   "metadata": {},
   "source": [
    "### 测试test"
   ]
  },
  {
   "cell_type": "code",
   "execution_count": 16,
   "metadata": {},
   "outputs": [
    {
     "name": "stdout",
     "output_type": "stream",
     "text": [
      "C\n",
      "[['translation_unit', ['comment'], ['function_definition', 'type:', ['sized_type_specifier', 'type:', ['primitive_type']], 'declarator:', ['function_declarator', 'declarator:', ['identifier'], 'parameters:', ['parameter_list', ['parameter_declaration', 'type:', ['primitive_type'], 'declarator:', ['pointer_declarator', 'declarator:', ['identifier']]], ['parameter_declaration', 'type:', ['primitive_type'], 'declarator:', ['identifier']]]], 'body:', ['compound_statement', ['declaration', 'type:', ['sized_type_specifier', 'type:', ['primitive_type']], 'declarator:', ['init_declarator', 'declarator:', ['identifier'], 'value:', ['call_expression', 'function:', ['identifier'], 'arguments:', ['argument_list', ['identifier'], ['identifier']]]]], ['comment'], ['if_statement', 'condition:', ['parenthesized_expression', ['unary_expression', 'argument:', ['identifier']]], 'consequence:', ['return_statement', ['identifier']]], ['comment'], ['expression_statement', ['call_expression', 'function:', ['identifier'], 'arguments:', ['argument_list', ['identifier']]]], ['comment'], ['return_statement', ['identifier']]]]]]\n",
      "\n",
      "\n"
     ]
    },
    {
     "data": {
      "text/plain": [
       "'\\nprint(\\'css\\')\\nprint(code2ast(\"css\",\"examples/example_css.css\"))\\nprint(\\'prolog\\')\\nprint(code2ast(\"prolog\",\"examples/example_prolog.pl\"))\\nprint(\\'r\\')\\nprint(code2ast(\"r\",\"examples/example_r.r\"))\\nprint(\\'\\n\\')\\nprint(\\'rust\\')\\nprint(code2ast(\"rust\",\"examples/example_rust.rs\"))\\nprint(\\'\\n\\')\\nprint(\\'cuda\\')\\nprint(code2ast(\"cuda\",\"examples/example_cuda.cu\"))\\nprint(\\'\\n\\')\\nprint(\\'perl\\')\\nprint(code2ast(\"perl\",\"examples/example_perl.pl\"))\\nprint(\\'\\n\\')\\nprint(\\'scala\\')\\nprint(code2ast(\"scala\",\"examples/example_scala.scala\"))\\nprint(\\'\\n\\')\\nprint(\\'matlab\\')\\nprint(code2ast(\"matlab\",\"examples/example_matlab.m\"))\\nprint(\\'\\n\\')\\nprint(\\'pascal\\')\\nprint(code2ast(\"pascal\",\"examples/example_pascal.pas\"))\\nprint(\\'\\n\\')\\nprint(\\'ruby\\')\\nprint(code2ast(\"ruby\",\"examples/example_ruby.rb\"))\\nprint(\\'\\n\\')\\nprint(\\'lua\\')\\nprint(code2ast(\"lua\",\"examples/example_lua.lua\"))\\nprint(\\'\\n\\')\\nprint(\\'dart\\')\\nprint(code2ast(\"dart\",\"examples/example_dart.dart\"))\\nprint(\\'\\n\\')\\nprint(\\'kotlin\\')\\nprint(code2ast(\"kotlin\",\"examples/example_kotlin.kt\"))\\nprint(\\'\\n\\')\\nprint(\\'html\\')\\nprint(code2ast(\"html\",\"examples/example_html.html\"))\\nprint(\\'\\n\\')\\nprint(\\'lisp\\')\\nprint(code2ast(\"kotlin\",\"examples/example_lisp.lisp\"))\\nprint(\\'\\n\\')\\nprint(\\'tex\\')\\nprint(code2ast(\"latex\",\"examples/example_tex.tex\"))\\nprint(\\'\\n\\')\\nprint(\\'sql\\')\\nprint(code2ast(\"sqlite\",\"examples/example_sql.sql\"))\\nprint(\\'\\n\\')\\nprint(\\'object-c\\')\\nprint(code2ast(\"objc\",\"examples/example_objc.objc\"))\\nprint(\\'\\n\\')\\nprint(\\'fortran\\')\\nprint(code2ast(\"fortran\",\"examples/example_fortran.f90\"))\\nprint(\\'\\n\\')'"
      ]
     },
     "execution_count": 16,
     "metadata": {},
     "output_type": "execute_result"
    }
   ],
   "source": [
    "'''\n",
    "print(\"Cpp\")\n",
    "print(code2ast(\"cpp\",\"examples/example_cpp.cpp\"))\n",
    "print(\"\\n\")\n",
    "print(\"Python\")\n",
    "print(code2ast(\"python\",\"examples/example_python.py\"))\n",
    "print(\"\\n\")\n",
    "print(\"java\")\n",
    "print(code2ast(\"java\",\"examples/example_java.java\"))\n",
    "print(\"\\n\")\n",
    "print(\"JS\")\n",
    "print(code2ast(\"javascript\",\"examples/example_js.js\"))\n",
    "print(\"\\n\")\n",
    "print(\"Go\")\n",
    "print(code2ast(\"go\",\"examples/example_go.go\"))\n",
    "print(\"\\n\")\n",
    "print(\"php\")\n",
    "print(code2ast(\"php\",\"examples/example_php.php\"))\n",
    "print(\"\\n\")\n",
    "print(\"C-sharp\")\n",
    "print(code2ast(\"c_sharp\",\"examples/example_c_sharp.cs\"))\n",
    "print(\"\\n\")\n",
    "print(\"TS\")\n",
    "print(code2ast(\"tsx\",\"examples/example_ts.ts\"))\n",
    "print(\"\\n\")\n",
    "'''\n",
    "print('C')\n",
    "print(code2ast(\"c\",\"examples/example_c.c\"))\n",
    "print('\\n')\n",
    "'''\n",
    "print('css')\n",
    "print(code2ast(\"css\",\"examples/example_css.css\"))\n",
    "print('prolog')\n",
    "print(code2ast(\"prolog\",\"examples/example_prolog.pl\"))\n",
    "print('r')\n",
    "print(code2ast(\"r\",\"examples/example_r.r\"))\n",
    "print('\\n')\n",
    "print('rust')\n",
    "print(code2ast(\"rust\",\"examples/example_rust.rs\"))\n",
    "print('\\n')\n",
    "print('cuda')\n",
    "print(code2ast(\"cuda\",\"examples/example_cuda.cu\"))\n",
    "print('\\n')\n",
    "print('perl')\n",
    "print(code2ast(\"perl\",\"examples/example_perl.pl\"))\n",
    "print('\\n')\n",
    "print('scala')\n",
    "print(code2ast(\"scala\",\"examples/example_scala.scala\"))\n",
    "print('\\n')\n",
    "print('matlab')\n",
    "print(code2ast(\"matlab\",\"examples/example_matlab.m\"))\n",
    "print('\\n')\n",
    "print('pascal')\n",
    "print(code2ast(\"pascal\",\"examples/example_pascal.pas\"))\n",
    "print('\\n')\n",
    "print('ruby')\n",
    "print(code2ast(\"ruby\",\"examples/example_ruby.rb\"))\n",
    "print('\\n')\n",
    "print('lua')\n",
    "print(code2ast(\"lua\",\"examples/example_lua.lua\"))\n",
    "print('\\n')\n",
    "print('dart')\n",
    "print(code2ast(\"dart\",\"examples/example_dart.dart\"))\n",
    "print('\\n')\n",
    "print('kotlin')\n",
    "print(code2ast(\"kotlin\",\"examples/example_kotlin.kt\"))\n",
    "print('\\n')\n",
    "print('html')\n",
    "print(code2ast(\"html\",\"examples/example_html.html\"))\n",
    "print('\\n')\n",
    "print('lisp')\n",
    "print(code2ast(\"kotlin\",\"examples/example_lisp.lisp\"))\n",
    "print('\\n')\n",
    "print('tex')\n",
    "print(code2ast(\"latex\",\"examples/example_tex.tex\"))\n",
    "print('\\n')\n",
    "print('sql')\n",
    "print(code2ast(\"sqlite\",\"examples/example_sql.sql\"))\n",
    "print('\\n')\n",
    "print('object-c')\n",
    "print(code2ast(\"objc\",\"examples/example_objc.objc\"))\n",
    "print('\\n')\n",
    "print('fortran')\n",
    "print(code2ast(\"fortran\",\"examples/example_fortran.f90\"))\n",
    "print('\\n')'''\n",
    "\n"
   ]
  },
  {
   "attachments": {},
   "cell_type": "markdown",
   "metadata": {},
   "source": [
    "\n"
   ]
  }
 ],
 "metadata": {
  "kernelspec": {
   "display_name": "base",
   "language": "python",
   "name": "python3"
  },
  "language_info": {
   "codemirror_mode": {
    "name": "ipython",
    "version": 3
   },
   "file_extension": ".py",
   "mimetype": "text/x-python",
   "name": "python",
   "nbconvert_exporter": "python",
   "pygments_lexer": "ipython3",
   "version": "3.9.13"
  },
  "orig_nbformat": 4,
  "vscode": {
   "interpreter": {
    "hash": "ad2bdc8ecc057115af97d19610ffacc2b4e99fae6737bb82f5d7fb13d2f2c186"
   }
  }
 },
 "nbformat": 4,
 "nbformat_minor": 2
}
