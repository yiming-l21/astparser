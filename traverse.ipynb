{
 "cells": [
  {
   "cell_type": "code",
   "execution_count": 13,
   "metadata": {},
   "outputs": [],
   "source": [
    "from tree_sitter import Language, Parser\n",
    "with open('./examples/example_c.c', \"r\") as f:\n",
    "    text = f.read()\n",
    "LANGUAGE=Language('build/my-languages.so', 'c')\n",
    "parser=Parser()\n",
    "parser.set_language(LANGUAGE)\n",
    "tree=parser.parse(bytes(text,\"utf8\"))"
   ]
  },
  {
   "cell_type": "code",
   "execution_count": 14,
   "metadata": {},
   "outputs": [],
   "source": [
    "#用tree.walk()方法写树遍历算法\n",
    "def make_move(cursor,move,allnodes):\n",
    "    if(move==\"down\"):\n",
    "        allnodes.append(cursor.node.type)\n",
    "        if(cursor.goto_first_child()):\n",
    "            make_move(cursor,\"down\",allnodes)\n",
    "        elif(cursor.goto_next_sibling()):\n",
    "            make_move(cursor,\"right\",allnodes)\n",
    "        elif(cursor.goto_parent()):\n",
    "            make_move(cursor,\"up\",allnodes)\n",
    "    elif(move==\"right\"):\n",
    "        allnodes.append(cursor.node.type)\n",
    "        if(cursor.goto_first_child()):\n",
    "            make_move(cursor,\"down\",allnodes)\n",
    "        elif(cursor.goto_next_sibling()):\n",
    "            make_move(cursor,\"right\",allnodes)\n",
    "        elif(cursor.goto_parent()):\n",
    "            make_move(cursor,\"up\",allnodes)\n",
    "    elif(move==\"up\"):\n",
    "        if(cursor.goto_next_sibling()):\n",
    "            make_move(cursor,\"right\",allnodes)\n",
    "        elif(cursor.goto_parent()):\n",
    "            make_move(cursor,\"up\",allnodes)"
   ]
  },
  {
   "cell_type": "code",
   "execution_count": 15,
   "metadata": {},
   "outputs": [
    {
     "name": "stdout",
     "output_type": "stream",
     "text": [
      "['translation_unit', 'comment', 'function_definition', 'sized_type_specifier', 'unsigned', 'primitive_type', 'function_declarator', 'identifier', 'parameter_list', '(', 'parameter_declaration', 'primitive_type', 'pointer_declarator', '*', 'identifier', ',', 'parameter_declaration', 'primitive_type', 'identifier', ')', 'compound_statement', '{', 'declaration', 'sized_type_specifier', 'unsigned', 'primitive_type', 'init_declarator', 'identifier', '=', 'call_expression', 'identifier', 'argument_list', '(', 'identifier', ',', 'identifier', ')', ';', 'comment', 'if_statement', 'if', 'parenthesized_expression', '(', 'unary_expression', '!', 'identifier', ')', 'return_statement', 'return', 'identifier', ';', 'comment', 'expression_statement', 'call_expression', 'identifier', 'argument_list', '(', 'identifier', ')', ';', 'comment', 'return_statement', 'return', 'identifier', ';', '}']\n",
      "[]\n"
     ]
    }
   ],
   "source": [
    "\n",
    "cursor = tree.walk()\n",
    "allnodes=[]\n",
    "allnodes1=[]\n",
    "make_move(cursor,\"down\",allnodes)\n",
    "print(allnodes)\n",
    "print(allnodes1)\n",
    "from typing import *\n",
    "import json\n",
    "#自己写树遍历算法\n",
    "def traverse_tree(node):\n",
    "    if type(node) == list:   \n",
    "        for n in node:\n",
    "            traverse_tree(n)\n",
    "    else:\n",
    "        if node.children == []:\n",
    "            return\n",
    "        traverse_tree(node.children)\n",
    "\n",
    "#traverse_tree(root_node)"
   ]
  }
 ],
 "metadata": {
  "kernelspec": {
   "display_name": "base",
   "language": "python",
   "name": "python3"
  },
  "language_info": {
   "codemirror_mode": {
    "name": "ipython",
    "version": 3
   },
   "file_extension": ".py",
   "mimetype": "text/x-python",
   "name": "python",
   "nbconvert_exporter": "python",
   "pygments_lexer": "ipython3",
   "version": "3.9.13"
  },
  "orig_nbformat": 4,
  "vscode": {
   "interpreter": {
    "hash": "ad2bdc8ecc057115af97d19610ffacc2b4e99fae6737bb82f5d7fb13d2f2c186"
   }
  }
 },
 "nbformat": 4,
 "nbformat_minor": 2
}
